{
 "cells": [
  {
   "cell_type": "code",
   "execution_count": 5,
   "metadata": {},
   "outputs": [
    {
     "name": "stdout",
     "output_type": "stream",
     "text": [
      "              store_id  status                   timestamp_utc\n",
      "0  8419537941919820732  active  2023-01-22 12:09:39.388884 UTC\n",
      "1    54515546588432327  active  2023-01-24 09:06:42.605777 UTC\n",
      "2  8377465688456570187  active  2023-01-24 09:07:26.441407 UTC\n",
      "3  5955337179846162144  active  2023-01-24 09:08:07.634899 UTC\n",
      "4  1169347689335808384  active  2023-01-24 09:08:18.436854 UTC\n",
      "              store_id  status                   timestamp_utc\n",
      "0  7960433717803174215  active  2023-01-18 20:09:28.915388 UTC\n",
      "1  7811780403049229937  active  2023-01-19 02:02:46.447352 UTC\n",
      "2  1113154600772620212  active  2023-01-19 13:43:10.308856 UTC\n",
      "3  3319035439600449966  active  2023-01-19 16:07:24.643137 UTC\n",
      "4  2472327995226210764  active  2023-01-19 15:12:12.353576 UTC\n"
     ]
    }
   ],
   "source": [
    "import pandas as pd\n",
    "\n",
    "# read DataFrame\n",
    "data = pd.read_csv(\"store status.csv\")\n",
    "\n",
    "# no of csv files with row size\n",
    "k = 2\n",
    "size = 911040\n",
    "\n",
    "for i in range(k):\n",
    "\tdf = data[size*i:size*(i+1)]\n",
    "\tdf.to_csv(f'store status_{i+1}.csv', index=False)\n",
    "\n",
    "df_1 = pd.read_csv(\"store status_1.csv\")\n",
    "print(df_1.head())\n",
    "\n",
    "df_2 = pd.read_csv(\"store status_2.csv\")\n",
    "print(df_2.head())\n"
   ]
  },
  {
   "cell_type": "code",
   "execution_count": 3,
   "metadata": {},
   "outputs": [
    {
     "data": {
      "text/plain": [
       "store_id         1822080\n",
       "status           1822080\n",
       "timestamp_utc    1822080\n",
       "dtype: int64"
      ]
     },
     "execution_count": 3,
     "metadata": {},
     "output_type": "execute_result"
    }
   ],
   "source": [
    "data.count()"
   ]
  },
  {
   "cell_type": "code",
   "execution_count": 4,
   "metadata": {},
   "outputs": [
    {
     "data": {
      "text/plain": [
       "911040.0"
      ]
     },
     "execution_count": 4,
     "metadata": {},
     "output_type": "execute_result"
    }
   ],
   "source": [
    "1822080/2"
   ]
  },
  {
   "cell_type": "code",
   "execution_count": null,
   "metadata": {},
   "outputs": [],
   "source": [
    "import numpy as np\n",
    "import matplotlib.pyplot as plt\n",
    "import seaborn as sns"
   ]
  },
  {
   "cell_type": "code",
   "execution_count": null,
   "metadata": {},
   "outputs": [],
   "source": [
    "df1 = pd.read_csv(\"\")\n",
    "df2 = pd.read_csv(\"\")\n",
    "df3 = pd.read_csv(\"\")"
   ]
  },
  {
   "cell_type": "code",
   "execution_count": null,
   "metadata": {},
   "outputs": [],
   "source": [
    "df1.head()"
   ]
  },
  {
   "cell_type": "code",
   "execution_count": null,
   "metadata": {},
   "outputs": [],
   "source": [
    "df1.describe()"
   ]
  },
  {
   "cell_type": "code",
   "execution_count": null,
   "metadata": {},
   "outputs": [],
   "source": [
    "df1.isnull().sum()"
   ]
  },
  {
   "cell_type": "code",
   "execution_count": null,
   "metadata": {},
   "outputs": [],
   "source": [
    "#Dropping 'x' since maximum entries are null\n",
    "#df = df.drop(['x'],axis=1)"
   ]
  },
  {
   "attachments": {},
   "cell_type": "markdown",
   "metadata": {},
   "source": [
    "Visualization"
   ]
  },
  {
   "cell_type": "code",
   "execution_count": null,
   "metadata": {},
   "outputs": [],
   "source": [
    "print(df1.corr())\n",
    "sns.heatmap(df1.corr(),cmap=\"copper\",annot=True,linewidths=0.2)"
   ]
  },
  {
   "cell_type": "code",
   "execution_count": null,
   "metadata": {},
   "outputs": [],
   "source": [
    "# pd.crosstab(df_train.Pclass,df_train.Survived).plot(kind='bar'),pd.crosstab(df_train.Pclass,df_train.Survived).plot(kind='line')\n"
   ]
  },
  {
   "cell_type": "code",
   "execution_count": null,
   "metadata": {},
   "outputs": [],
   "source": [
    "#ptf = sns.FacetGrid(df_train,row=\"Pclass\",col=\"Survived\",hue=\"Survived\")\n",
    "#ptf.map(sns.barplot,\"Sex\",\"Fare\",ci=None)"
   ]
  },
  {
   "cell_type": "code",
   "execution_count": null,
   "metadata": {},
   "outputs": [],
   "source": [
    "#sns.countplot(\"SibSp\",hue=\"Survived\",data=df_train)"
   ]
  },
  {
   "cell_type": "code",
   "execution_count": null,
   "metadata": {},
   "outputs": [],
   "source": [
    "#plt.pie(\"Survived\",data=age_range_survived,labels=\"AgeRange\",shadow=True,frame=True)\n",
    "#plt.title(\"AgeRange Survived\")\n",
    "#plt.legend()"
   ]
  },
  {
   "cell_type": "code",
   "execution_count": null,
   "metadata": {},
   "outputs": [],
   "source": [
    "#X = df_train.drop(['Survived','AgeRange'],axis=1)\n",
    "#Y = df_train.Survived\n",
    "#X_test = df_test\n",
    "#from sklearn.model_selection import train_test_split\n",
    "#X_train,X_check,y_train,y_check = train_test_split(X,Y,test_size=0.3)"
   ]
  },
  {
   "cell_type": "code",
   "execution_count": null,
   "metadata": {},
   "outputs": [],
   "source": [
    "#print('Shape of X_train:',X_train.shape)\n",
    "#print('Shape of X_check:',X_check.shape)\n",
    "#print('Shape of X_test:',X_test.shape)"
   ]
  },
  {
   "cell_type": "code",
   "execution_count": null,
   "metadata": {},
   "outputs": [],
   "source": [
    "'''\n",
    "from sklearn.linear_model import LogisticRegression\n",
    "from sklearn.svm import SVC\n",
    "from sklearn.naive_bayes import GaussianNB,MultinomialNB,BernoulliNB\n",
    "from sklearn.tree import DecisionTreeClassifier\n",
    "from sklearn.ensemble import RandomForestClassifier\n",
    "'''"
   ]
  },
  {
   "cell_type": "code",
   "execution_count": null,
   "metadata": {},
   "outputs": [],
   "source": [
    "'''\n",
    "LR = LogisticRegression()\n",
    "LR.fit(X_train,y_train)\n",
    "LR.score(X_check,y_check)\n",
    "'''"
   ]
  },
  {
   "cell_type": "code",
   "execution_count": null,
   "metadata": {},
   "outputs": [],
   "source": [
    "'''\n",
    "Sv1 = SVC(C=50,kernel=\"linear\",gamma=\"scale\")\n",
    "Sv1.fit(X_train,y_train)\n",
    "Sv1.score(X_check,y_check)\n",
    "'''"
   ]
  },
  {
   "cell_type": "code",
   "execution_count": null,
   "metadata": {},
   "outputs": [],
   "source": [
    "'''\n",
    "Sv2 = SVC(C=50,kernel=\"rbf\",gamma=\"scale\")\n",
    "Sv2.fit(X_train,y_train)\n",
    "Sv2.score(X_check,y_check)\n",
    "'''"
   ]
  },
  {
   "cell_type": "code",
   "execution_count": null,
   "metadata": {},
   "outputs": [],
   "source": [
    "'''\n",
    "NB = GaussianNB()\n",
    "NB.fit(X_train,y_train)\n",
    "NB.score(X_check,y_check)\n",
    "'''"
   ]
  },
  {
   "cell_type": "code",
   "execution_count": null,
   "metadata": {},
   "outputs": [],
   "source": [
    "'''\n",
    "BB = BernoulliNB()\n",
    "BB.fit(X_train,y_train)\n",
    "BB.score(X_check,y_check)\n",
    "'''"
   ]
  },
  {
   "cell_type": "code",
   "execution_count": null,
   "metadata": {},
   "outputs": [],
   "source": [
    "'''\n",
    "MB = MultinomialNB()\n",
    "MB.fit(X_train,y_train)\n",
    "MB.score(X_check,y_check)\n",
    "'''"
   ]
  },
  {
   "cell_type": "code",
   "execution_count": null,
   "metadata": {},
   "outputs": [],
   "source": [
    "'''\n",
    "DTC = DecisionTreeClassifier(criterion='gini')\n",
    "DTC.fit(X_train,y_train)\n",
    "DTC.score(X_check,y_check)\n",
    "'''"
   ]
  },
  {
   "cell_type": "code",
   "execution_count": null,
   "metadata": {},
   "outputs": [],
   "source": [
    "'''\n",
    "RFC = RandomForestClassifier()\n",
    "RFC.fit(X_train,y_train)\n",
    "RFC.score(X_check,y_check)\n",
    "'''"
   ]
  },
  {
   "cell_type": "code",
   "execution_count": null,
   "metadata": {},
   "outputs": [],
   "source": [
    "'''\n",
    "models = pd.DataFrame({\n",
    "    'Model': ['SVM - linear', 'SVM - rbf', 'Logistic Regression', \n",
    "              'Random Forest Classifier', 'Naive Bayes - Gaussian', 'Naive Bayes - Bernoulli', 'Naive Bayes - Multinomial', 'Decision Tree Classifier'],\n",
    "    'Score': [Sv1.score(X_check,y_check),Sv2.score(X_check,y_check),LR.score(X_check,y_check),\n",
    "              RFC.score(X_check,y_check),NB.score(X_check,y_check),BB.score(X_check,y_check),\n",
    "              MB.score(X_check,y_check),DTC.score(X_check,y_check)]})\n",
    "models.sort_values(by=\"Score\")\n",
    "'''"
   ]
  },
  {
   "cell_type": "code",
   "execution_count": null,
   "metadata": {},
   "outputs": [],
   "source": []
  }
 ],
 "metadata": {
  "kernelspec": {
   "display_name": "Python 3",
   "language": "python",
   "name": "python3"
  },
  "language_info": {
   "codemirror_mode": {
    "name": "ipython",
    "version": 3
   },
   "file_extension": ".py",
   "mimetype": "text/x-python",
   "name": "python",
   "nbconvert_exporter": "python",
   "pygments_lexer": "ipython3",
   "version": "3.8.2"
  },
  "orig_nbformat": 4,
  "vscode": {
   "interpreter": {
    "hash": "03822121fd6fda9c3b64643458ea35e2210ab6ef8f7bc615fcae8351a0732f4b"
   }
  }
 },
 "nbformat": 4,
 "nbformat_minor": 2
}
