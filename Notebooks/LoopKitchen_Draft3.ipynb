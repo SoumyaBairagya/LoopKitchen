{
 "cells": [
  {
   "attachments": {},
   "cell_type": "markdown",
   "metadata": {},
   "source": [
    "Name - Soumya Bairagya\n",
    "\n",
    "Ph no  - +91 9860135277\n",
    "\n",
    "E-mail - soumya.bairagya19@vit.edu"
   ]
  },
  {
   "attachments": {},
   "cell_type": "markdown",
   "metadata": {},
   "source": [
    "Store Monitoring\n",
    "\n",
    "Problem Statement\n",
    "\n",
    "An organization monitors several restaurants in the US and needs to monitor if the store is online or not. All restaurants are supposed to be online during their business hours. Due to some unknown reasons, a store might go inactive for a few hours. Restaurant owners want to get a report of the how often this happened in the past.\n",
    "We want to build backend APIs that will help restaurant owners achieve this goal.\n",
    "We will provide the following data sources which contain all the data that is required to achieve this purpose.\n",
    "Data sources\n",
    "We will have 3 sources of data\n",
    "1.\tWe poll every store roughly every hour and have data about whether the store was active or not in a CSV. The CSV has 3 columns (store_id, timestamp_utc, status) where status is active or inactive. All timestamps are in UTC.\n",
    "2.\tWe have the business hours of all the stores - schema of this data is store_id, dayOfWeek(0=Monday, 6=Sunday), start_time_local, end_time_local. These times are in the local time zone. If data is missing for a store, assume it is open 24*7.\n",
    "3.\tTimezone for the stores - schema is store_id, timezone_str. If data is missing for a store, assume it is America/Chicago. This is used so that data sources 1 and 2 can be compared against each other."
   ]
  },
  {
   "attachments": {},
   "cell_type": "markdown",
   "metadata": {},
   "source": [
    "Data output requirement\n",
    "We want to output a report to the user that has the following schema\n",
    "store_id, uptime_last_hour, uptime_last_day, update_last_week, downtime_last_hour, downtime_last_day, downtime_last_week\n",
    "1.\tUptime and downtime should only include observations within business hours.\n",
    "2.\tYou need to extrapolate uptime and downtime based on the periodic polls we have ingested, to the entire time interval. \n",
    "    1.\teg, business hours for a store are 9 AM to 12 PM on Monday \n",
    "        1.\twe only have 2 observations for this store on a particular date (Monday) in our data at 10:14 AM and 11:15 AM\n",
    "        2.\twe need to fill the entire business hours interval with uptime and downtime from these 2 observations based on some sane interpolation logic\n"
   ]
  },
  {
   "cell_type": "code",
   "execution_count": 4,
   "metadata": {},
   "outputs": [],
   "source": [
    "import pandas as pd\n",
    "import numpy as np\n",
    "import matplotlib.pyplot as plt\n",
    "import seaborn as sns"
   ]
  },
  {
   "cell_type": "code",
   "execution_count": 5,
   "metadata": {},
   "outputs": [
    {
     "name": "stdout",
     "output_type": "stream",
     "text": [
      "              store_id  status                   timestamp_utc\n",
      "0  8419537941919820732  active  2023-01-22 12:09:39.388884 UTC\n",
      "1    54515546588432327  active  2023-01-24 09:06:42.605777 UTC\n",
      "2  8377465688456570187  active  2023-01-24 09:07:26.441407 UTC\n",
      "3  5955337179846162144  active  2023-01-24 09:08:07.634899 UTC\n",
      "4  1169347689335808384  active  2023-01-24 09:08:18.436854 UTC\n",
      "              store_id  status                   timestamp_utc\n",
      "0  7960433717803174215  active  2023-01-18 20:09:28.915388 UTC\n",
      "1  7811780403049229937  active  2023-01-19 02:02:46.447352 UTC\n",
      "2  1113154600772620212  active  2023-01-19 13:43:10.308856 UTC\n",
      "3  3319035439600449966  active  2023-01-19 16:07:24.643137 UTC\n",
      "4  2472327995226210764  active  2023-01-19 15:12:12.353576 UTC\n"
     ]
    }
   ],
   "source": [
    "# read DataFrame\n",
    "data = pd.read_csv(\"store status.csv\")\n",
    "\n",
    "# no of csv files with row size\n",
    "k = 2\n",
    "size = 911040\n",
    "\n",
    "for i in range(k):\n",
    "\tdf = data[size*i:size*(i+1)]\n",
    "\tdf.to_csv(f'store status_{i+1}.csv', index=False)\n",
    "\n",
    "df_1 = pd.read_csv(\"store status_1.csv\")\n",
    "print(df_1.head())\n",
    "\n",
    "df_2 = pd.read_csv(\"store status_2.csv\")\n",
    "print(df_2.head())\n"
   ]
  },
  {
   "cell_type": "code",
   "execution_count": 3,
   "metadata": {},
   "outputs": [
    {
     "data": {
      "text/plain": [
       "store_id         1822080\n",
       "status           1822080\n",
       "timestamp_utc    1822080\n",
       "dtype: int64"
      ]
     },
     "execution_count": 3,
     "metadata": {},
     "output_type": "execute_result"
    }
   ],
   "source": [
    "data.count()"
   ]
  },
  {
   "cell_type": "code",
   "execution_count": 4,
   "metadata": {},
   "outputs": [
    {
     "data": {
      "text/plain": [
       "911040.0"
      ]
     },
     "execution_count": 4,
     "metadata": {},
     "output_type": "execute_result"
    }
   ],
   "source": [
    "1822080/2"
   ]
  },
  {
   "cell_type": "code",
   "execution_count": 10,
   "metadata": {},
   "outputs": [],
   "source": [
    "df1 = pd.read_csv(\"store status.csv\")\n",
    "df2 = pd.read_csv(\"Menu hours.csv\")\n",
    "df3 = pd.read_csv(\"bq-results-20230125-202210-1674678181880.csv\")"
   ]
  },
  {
   "cell_type": "code",
   "execution_count": 26,
   "metadata": {},
   "outputs": [
    {
     "data": {
      "text/html": [
       "<div>\n",
       "<style scoped>\n",
       "    .dataframe tbody tr th:only-of-type {\n",
       "        vertical-align: middle;\n",
       "    }\n",
       "\n",
       "    .dataframe tbody tr th {\n",
       "        vertical-align: top;\n",
       "    }\n",
       "\n",
       "    .dataframe thead th {\n",
       "        text-align: right;\n",
       "    }\n",
       "</style>\n",
       "<table border=\"1\" class=\"dataframe\">\n",
       "  <thead>\n",
       "    <tr style=\"text-align: right;\">\n",
       "      <th></th>\n",
       "      <th>store_id</th>\n",
       "      <th>status</th>\n",
       "      <th>timestamp_utc</th>\n",
       "    </tr>\n",
       "  </thead>\n",
       "  <tbody>\n",
       "    <tr>\n",
       "      <th>0</th>\n",
       "      <td>8419537941919820732</td>\n",
       "      <td>active</td>\n",
       "      <td>2023-01-22 12:09:39.388884 UTC</td>\n",
       "    </tr>\n",
       "    <tr>\n",
       "      <th>1</th>\n",
       "      <td>54515546588432327</td>\n",
       "      <td>active</td>\n",
       "      <td>2023-01-24 09:06:42.605777 UTC</td>\n",
       "    </tr>\n",
       "    <tr>\n",
       "      <th>2</th>\n",
       "      <td>8377465688456570187</td>\n",
       "      <td>active</td>\n",
       "      <td>2023-01-24 09:07:26.441407 UTC</td>\n",
       "    </tr>\n",
       "    <tr>\n",
       "      <th>3</th>\n",
       "      <td>5955337179846162144</td>\n",
       "      <td>active</td>\n",
       "      <td>2023-01-24 09:08:07.634899 UTC</td>\n",
       "    </tr>\n",
       "    <tr>\n",
       "      <th>4</th>\n",
       "      <td>1169347689335808384</td>\n",
       "      <td>active</td>\n",
       "      <td>2023-01-24 09:08:18.436854 UTC</td>\n",
       "    </tr>\n",
       "  </tbody>\n",
       "</table>\n",
       "</div>"
      ],
      "text/plain": [
       "              store_id  status                   timestamp_utc\n",
       "0  8419537941919820732  active  2023-01-22 12:09:39.388884 UTC\n",
       "1    54515546588432327  active  2023-01-24 09:06:42.605777 UTC\n",
       "2  8377465688456570187  active  2023-01-24 09:07:26.441407 UTC\n",
       "3  5955337179846162144  active  2023-01-24 09:08:07.634899 UTC\n",
       "4  1169347689335808384  active  2023-01-24 09:08:18.436854 UTC"
      ]
     },
     "execution_count": 26,
     "metadata": {},
     "output_type": "execute_result"
    }
   ],
   "source": [
    "df1.head()"
   ]
  },
  {
   "cell_type": "code",
   "execution_count": 27,
   "metadata": {},
   "outputs": [
    {
     "data": {
      "text/html": [
       "<div>\n",
       "<style scoped>\n",
       "    .dataframe tbody tr th:only-of-type {\n",
       "        vertical-align: middle;\n",
       "    }\n",
       "\n",
       "    .dataframe tbody tr th {\n",
       "        vertical-align: top;\n",
       "    }\n",
       "\n",
       "    .dataframe thead th {\n",
       "        text-align: right;\n",
       "    }\n",
       "</style>\n",
       "<table border=\"1\" class=\"dataframe\">\n",
       "  <thead>\n",
       "    <tr style=\"text-align: right;\">\n",
       "      <th></th>\n",
       "      <th>store_id</th>\n",
       "    </tr>\n",
       "  </thead>\n",
       "  <tbody>\n",
       "    <tr>\n",
       "      <th>count</th>\n",
       "      <td>1.822080e+06</td>\n",
       "    </tr>\n",
       "    <tr>\n",
       "      <th>mean</th>\n",
       "      <td>4.602054e+18</td>\n",
       "    </tr>\n",
       "    <tr>\n",
       "      <th>std</th>\n",
       "      <td>2.641361e+18</td>\n",
       "    </tr>\n",
       "    <tr>\n",
       "      <th>min</th>\n",
       "      <td>2.574063e+14</td>\n",
       "    </tr>\n",
       "    <tr>\n",
       "      <th>25%</th>\n",
       "      <td>2.326915e+18</td>\n",
       "    </tr>\n",
       "    <tr>\n",
       "      <th>50%</th>\n",
       "      <td>4.590731e+18</td>\n",
       "    </tr>\n",
       "    <tr>\n",
       "      <th>75%</th>\n",
       "      <td>6.845758e+18</td>\n",
       "    </tr>\n",
       "    <tr>\n",
       "      <th>max</th>\n",
       "      <td>9.222367e+18</td>\n",
       "    </tr>\n",
       "  </tbody>\n",
       "</table>\n",
       "</div>"
      ],
      "text/plain": [
       "           store_id\n",
       "count  1.822080e+06\n",
       "mean   4.602054e+18\n",
       "std    2.641361e+18\n",
       "min    2.574063e+14\n",
       "25%    2.326915e+18\n",
       "50%    4.590731e+18\n",
       "75%    6.845758e+18\n",
       "max    9.222367e+18"
      ]
     },
     "execution_count": 27,
     "metadata": {},
     "output_type": "execute_result"
    }
   ],
   "source": [
    "df1.describe()"
   ]
  },
  {
   "cell_type": "code",
   "execution_count": 28,
   "metadata": {},
   "outputs": [
    {
     "data": {
      "text/plain": [
       "store_id         0\n",
       "status           0\n",
       "timestamp_utc    0\n",
       "dtype: int64"
      ]
     },
     "execution_count": 28,
     "metadata": {},
     "output_type": "execute_result"
    }
   ],
   "source": [
    "df1.isnull().sum()"
   ]
  },
  {
   "cell_type": "code",
   "execution_count": 30,
   "metadata": {},
   "outputs": [
    {
     "data": {
      "text/plain": [
       "store_id            0\n",
       "day                 0\n",
       "start_time_local    0\n",
       "end_time_local      0\n",
       "dtype: int64"
      ]
     },
     "execution_count": 30,
     "metadata": {},
     "output_type": "execute_result"
    }
   ],
   "source": [
    "df2.isnull().sum()"
   ]
  },
  {
   "cell_type": "code",
   "execution_count": 31,
   "metadata": {},
   "outputs": [
    {
     "data": {
      "text/plain": [
       "store_id        0\n",
       "timezone_str    0\n",
       "dtype: int64"
      ]
     },
     "execution_count": 31,
     "metadata": {},
     "output_type": "execute_result"
    }
   ],
   "source": [
    "df3.isnull().sum()"
   ]
  },
  {
   "cell_type": "code",
   "execution_count": 5,
   "metadata": {},
   "outputs": [],
   "source": [
    "merged_data_1 = df1.merge(df2, on=[\"store_id\"])\n",
    "merged_data_1.head()\n",
    "merged_data_1.to_csv(f'RestaurantData_1.csv', index=False)"
   ]
  },
  {
   "cell_type": "code",
   "execution_count": 6,
   "metadata": {},
   "outputs": [
    {
     "data": {
      "text/plain": [
       "store_id            11451872\n",
       "status              11451872\n",
       "timestamp_utc       11451872\n",
       "day                 11451872\n",
       "start_time_local    11451872\n",
       "end_time_local      11451872\n",
       "dtype: int64"
      ]
     },
     "execution_count": 6,
     "metadata": {},
     "output_type": "execute_result"
    }
   ],
   "source": [
    "merged_data_1.count()\n"
   ]
  },
  {
   "cell_type": "code",
   "execution_count": 7,
   "metadata": {},
   "outputs": [],
   "source": [
    "merged_data_2 = merged_data_1.merge(df3, on=[\"store_id\"])\n",
    "merged_data_2.head()\n",
    "merged_data_2.to_csv(f'RestaurantData_2.csv', index=False)\n"
   ]
  },
  {
   "cell_type": "code",
   "execution_count": 8,
   "metadata": {},
   "outputs": [
    {
     "data": {
      "text/plain": [
       "store_id            11450318\n",
       "status              11450318\n",
       "timestamp_utc       11450318\n",
       "day                 11450318\n",
       "start_time_local    11450318\n",
       "end_time_local      11450318\n",
       "timezone_str        11450318\n",
       "dtype: int64"
      ]
     },
     "execution_count": 8,
     "metadata": {},
     "output_type": "execute_result"
    }
   ],
   "source": [
    "merged_data_2.count()"
   ]
  },
  {
   "cell_type": "code",
   "execution_count": 9,
   "metadata": {},
   "outputs": [
    {
     "data": {
      "text/plain": [
       "store_id            0\n",
       "status              0\n",
       "timestamp_utc       0\n",
       "day                 0\n",
       "start_time_local    0\n",
       "end_time_local      0\n",
       "timezone_str        0\n",
       "dtype: int64"
      ]
     },
     "execution_count": 9,
     "metadata": {},
     "output_type": "execute_result"
    }
   ],
   "source": [
    "merged_data_2.isnull().sum()"
   ]
  },
  {
   "attachments": {},
   "cell_type": "markdown",
   "metadata": {},
   "source": [
    "Way2"
   ]
  },
  {
   "cell_type": "code",
   "execution_count": 14,
   "metadata": {},
   "outputs": [],
   "source": [
    "merged_data_3 = df2.merge(df3, on=[\"store_id\"])\n",
    "merged_data_3.to_csv(f'RestaurantData_3.csv', index=False)"
   ]
  },
  {
   "cell_type": "code",
   "execution_count": 15,
   "metadata": {},
   "outputs": [
    {
     "data": {
      "text/plain": [
       "store_id            86021\n",
       "day                 86021\n",
       "start_time_local    86021\n",
       "end_time_local      86021\n",
       "timezone_str        86021\n",
       "dtype: int64"
      ]
     },
     "execution_count": 15,
     "metadata": {},
     "output_type": "execute_result"
    }
   ],
   "source": [
    "merged_data_3.count()"
   ]
  },
  {
   "cell_type": "code",
   "execution_count": 16,
   "metadata": {},
   "outputs": [],
   "source": [
    "merged_data_4 = merged_data_3.merge(df1, on=[\"store_id\"])\n",
    "merged_data_4.to_csv(f'RestaurantData_4.csv', index=False)"
   ]
  },
  {
   "cell_type": "code",
   "execution_count": 17,
   "metadata": {},
   "outputs": [
    {
     "data": {
      "text/plain": [
       "store_id            11450318\n",
       "day                 11450318\n",
       "start_time_local    11450318\n",
       "end_time_local      11450318\n",
       "timezone_str        11450318\n",
       "status              11450318\n",
       "timestamp_utc       11450318\n",
       "dtype: int64"
      ]
     },
     "execution_count": 17,
     "metadata": {},
     "output_type": "execute_result"
    }
   ],
   "source": [
    "merged_data_4.count()"
   ]
  },
  {
   "cell_type": "code",
   "execution_count": 24,
   "metadata": {},
   "outputs": [
    {
     "data": {
      "text/plain": [
       "11450318"
      ]
     },
     "execution_count": 24,
     "metadata": {},
     "output_type": "execute_result"
    }
   ],
   "source": [
    "merged_data_2.store_id.count()"
   ]
  },
  {
   "cell_type": "code",
   "execution_count": 25,
   "metadata": {},
   "outputs": [
    {
     "name": "stdout",
     "output_type": "stream",
     "text": [
      "Equal data\n"
     ]
    }
   ],
   "source": [
    "if (merged_data_2.store_id.count() == merged_data_4.store_id.count()):\n",
    "    print (\"Equal data\")\n",
    "else:\n",
    "    print(\"Something wrong with data\")"
   ]
  },
  {
   "cell_type": "code",
   "execution_count": 5,
   "metadata": {},
   "outputs": [],
   "source": [
    "df4 = pd.read_csv(\"RestaurantData_4.csv\")"
   ]
  },
  {
   "cell_type": "code",
   "execution_count": 6,
   "metadata": {},
   "outputs": [],
   "source": [
    "df5 = df4.drop(['timezone_str'],axis=1)"
   ]
  },
  {
   "cell_type": "code",
   "execution_count": 7,
   "metadata": {},
   "outputs": [
    {
     "data": {
      "text/html": [
       "<div>\n",
       "<style scoped>\n",
       "    .dataframe tbody tr th:only-of-type {\n",
       "        vertical-align: middle;\n",
       "    }\n",
       "\n",
       "    .dataframe tbody tr th {\n",
       "        vertical-align: top;\n",
       "    }\n",
       "\n",
       "    .dataframe thead th {\n",
       "        text-align: right;\n",
       "    }\n",
       "</style>\n",
       "<table border=\"1\" class=\"dataframe\">\n",
       "  <thead>\n",
       "    <tr style=\"text-align: right;\">\n",
       "      <th></th>\n",
       "      <th>store_id</th>\n",
       "      <th>day</th>\n",
       "      <th>start_time_local</th>\n",
       "      <th>end_time_local</th>\n",
       "      <th>status</th>\n",
       "      <th>timestamp_utc</th>\n",
       "    </tr>\n",
       "  </thead>\n",
       "  <tbody>\n",
       "    <tr>\n",
       "      <th>0</th>\n",
       "      <td>1481966498820158979</td>\n",
       "      <td>4</td>\n",
       "      <td>00:00:00</td>\n",
       "      <td>00:10:00</td>\n",
       "      <td>active</td>\n",
       "      <td>2023-01-20 05:37:32.091231 UTC</td>\n",
       "    </tr>\n",
       "    <tr>\n",
       "      <th>1</th>\n",
       "      <td>1481966498820158979</td>\n",
       "      <td>4</td>\n",
       "      <td>00:00:00</td>\n",
       "      <td>00:10:00</td>\n",
       "      <td>active</td>\n",
       "      <td>2023-01-24 15:10:01.222494 UTC</td>\n",
       "    </tr>\n",
       "    <tr>\n",
       "      <th>2</th>\n",
       "      <td>1481966498820158979</td>\n",
       "      <td>4</td>\n",
       "      <td>00:00:00</td>\n",
       "      <td>00:10:00</td>\n",
       "      <td>active</td>\n",
       "      <td>2023-01-19 00:35:26.427784 UTC</td>\n",
       "    </tr>\n",
       "    <tr>\n",
       "      <th>3</th>\n",
       "      <td>1481966498820158979</td>\n",
       "      <td>4</td>\n",
       "      <td>00:00:00</td>\n",
       "      <td>00:10:00</td>\n",
       "      <td>active</td>\n",
       "      <td>2023-01-25 11:09:27.334577 UTC</td>\n",
       "    </tr>\n",
       "    <tr>\n",
       "      <th>4</th>\n",
       "      <td>1481966498820158979</td>\n",
       "      <td>4</td>\n",
       "      <td>00:00:00</td>\n",
       "      <td>00:10:00</td>\n",
       "      <td>active</td>\n",
       "      <td>2023-01-21 02:07:42.020815 UTC</td>\n",
       "    </tr>\n",
       "  </tbody>\n",
       "</table>\n",
       "</div>"
      ],
      "text/plain": [
       "              store_id  day start_time_local end_time_local  status  \\\n",
       "0  1481966498820158979    4         00:00:00       00:10:00  active   \n",
       "1  1481966498820158979    4         00:00:00       00:10:00  active   \n",
       "2  1481966498820158979    4         00:00:00       00:10:00  active   \n",
       "3  1481966498820158979    4         00:00:00       00:10:00  active   \n",
       "4  1481966498820158979    4         00:00:00       00:10:00  active   \n",
       "\n",
       "                    timestamp_utc  \n",
       "0  2023-01-20 05:37:32.091231 UTC  \n",
       "1  2023-01-24 15:10:01.222494 UTC  \n",
       "2  2023-01-19 00:35:26.427784 UTC  \n",
       "3  2023-01-25 11:09:27.334577 UTC  \n",
       "4  2023-01-21 02:07:42.020815 UTC  "
      ]
     },
     "execution_count": 7,
     "metadata": {},
     "output_type": "execute_result"
    }
   ],
   "source": [
    "df5.head()"
   ]
  },
  {
   "cell_type": "code",
   "execution_count": 8,
   "metadata": {},
   "outputs": [
    {
     "data": {
      "text/plain": [
       "store_id            0\n",
       "day                 0\n",
       "start_time_local    0\n",
       "end_time_local      0\n",
       "status              0\n",
       "timestamp_utc       0\n",
       "dtype: int64"
      ]
     },
     "execution_count": 8,
     "metadata": {},
     "output_type": "execute_result"
    }
   ],
   "source": [
    "df5.isnull().sum()"
   ]
  },
  {
   "cell_type": "code",
   "execution_count": 11,
   "metadata": {},
   "outputs": [
    {
     "data": {
      "text/html": [
       "<div>\n",
       "<style scoped>\n",
       "    .dataframe tbody tr th:only-of-type {\n",
       "        vertical-align: middle;\n",
       "    }\n",
       "\n",
       "    .dataframe tbody tr th {\n",
       "        vertical-align: top;\n",
       "    }\n",
       "\n",
       "    .dataframe thead th {\n",
       "        text-align: right;\n",
       "    }\n",
       "</style>\n",
       "<table border=\"1\" class=\"dataframe\">\n",
       "  <thead>\n",
       "    <tr style=\"text-align: right;\">\n",
       "      <th></th>\n",
       "      <th>store_id</th>\n",
       "      <th>status</th>\n",
       "      <th>timestamp_utc</th>\n",
       "    </tr>\n",
       "  </thead>\n",
       "  <tbody>\n",
       "    <tr>\n",
       "      <th>0</th>\n",
       "      <td>8419537941919820732</td>\n",
       "      <td>active</td>\n",
       "      <td>2023-01-22 12:09:39.388884 UTC</td>\n",
       "    </tr>\n",
       "    <tr>\n",
       "      <th>1</th>\n",
       "      <td>54515546588432327</td>\n",
       "      <td>active</td>\n",
       "      <td>2023-01-24 09:06:42.605777 UTC</td>\n",
       "    </tr>\n",
       "    <tr>\n",
       "      <th>2</th>\n",
       "      <td>8377465688456570187</td>\n",
       "      <td>active</td>\n",
       "      <td>2023-01-24 09:07:26.441407 UTC</td>\n",
       "    </tr>\n",
       "    <tr>\n",
       "      <th>3</th>\n",
       "      <td>5955337179846162144</td>\n",
       "      <td>active</td>\n",
       "      <td>2023-01-24 09:08:07.634899 UTC</td>\n",
       "    </tr>\n",
       "    <tr>\n",
       "      <th>4</th>\n",
       "      <td>1169347689335808384</td>\n",
       "      <td>active</td>\n",
       "      <td>2023-01-24 09:08:18.436854 UTC</td>\n",
       "    </tr>\n",
       "  </tbody>\n",
       "</table>\n",
       "</div>"
      ],
      "text/plain": [
       "              store_id  status                   timestamp_utc\n",
       "0  8419537941919820732  active  2023-01-22 12:09:39.388884 UTC\n",
       "1    54515546588432327  active  2023-01-24 09:06:42.605777 UTC\n",
       "2  8377465688456570187  active  2023-01-24 09:07:26.441407 UTC\n",
       "3  5955337179846162144  active  2023-01-24 09:08:07.634899 UTC\n",
       "4  1169347689335808384  active  2023-01-24 09:08:18.436854 UTC"
      ]
     },
     "execution_count": 11,
     "metadata": {},
     "output_type": "execute_result"
    }
   ],
   "source": [
    "dfch = df1.head()\n",
    "dfch"
   ]
  },
  {
   "cell_type": "code",
   "execution_count": 10,
   "metadata": {},
   "outputs": [],
   "source": [
    "dfch[['Date', 'UTC Time']] = dfch.timestamp_utc.str.split(\" \", n=1, expand=True)"
   ]
  },
  {
   "cell_type": "code",
   "execution_count": 11,
   "metadata": {},
   "outputs": [
    {
     "data": {
      "text/html": [
       "<div>\n",
       "<style scoped>\n",
       "    .dataframe tbody tr th:only-of-type {\n",
       "        vertical-align: middle;\n",
       "    }\n",
       "\n",
       "    .dataframe tbody tr th {\n",
       "        vertical-align: top;\n",
       "    }\n",
       "\n",
       "    .dataframe thead th {\n",
       "        text-align: right;\n",
       "    }\n",
       "</style>\n",
       "<table border=\"1\" class=\"dataframe\">\n",
       "  <thead>\n",
       "    <tr style=\"text-align: right;\">\n",
       "      <th></th>\n",
       "      <th>store_id</th>\n",
       "      <th>status</th>\n",
       "      <th>timestamp_utc</th>\n",
       "      <th>Date</th>\n",
       "      <th>UTC Time</th>\n",
       "    </tr>\n",
       "  </thead>\n",
       "  <tbody>\n",
       "    <tr>\n",
       "      <th>0</th>\n",
       "      <td>8419537941919820732</td>\n",
       "      <td>active</td>\n",
       "      <td>2023-01-22 12:09:39.388884 UTC</td>\n",
       "      <td>2023-01-22</td>\n",
       "      <td>12:09:39.388884 UTC</td>\n",
       "    </tr>\n",
       "    <tr>\n",
       "      <th>1</th>\n",
       "      <td>54515546588432327</td>\n",
       "      <td>active</td>\n",
       "      <td>2023-01-24 09:06:42.605777 UTC</td>\n",
       "      <td>2023-01-24</td>\n",
       "      <td>09:06:42.605777 UTC</td>\n",
       "    </tr>\n",
       "    <tr>\n",
       "      <th>2</th>\n",
       "      <td>8377465688456570187</td>\n",
       "      <td>active</td>\n",
       "      <td>2023-01-24 09:07:26.441407 UTC</td>\n",
       "      <td>2023-01-24</td>\n",
       "      <td>09:07:26.441407 UTC</td>\n",
       "    </tr>\n",
       "    <tr>\n",
       "      <th>3</th>\n",
       "      <td>5955337179846162144</td>\n",
       "      <td>active</td>\n",
       "      <td>2023-01-24 09:08:07.634899 UTC</td>\n",
       "      <td>2023-01-24</td>\n",
       "      <td>09:08:07.634899 UTC</td>\n",
       "    </tr>\n",
       "    <tr>\n",
       "      <th>4</th>\n",
       "      <td>1169347689335808384</td>\n",
       "      <td>active</td>\n",
       "      <td>2023-01-24 09:08:18.436854 UTC</td>\n",
       "      <td>2023-01-24</td>\n",
       "      <td>09:08:18.436854 UTC</td>\n",
       "    </tr>\n",
       "  </tbody>\n",
       "</table>\n",
       "</div>"
      ],
      "text/plain": [
       "              store_id  status                   timestamp_utc        Date  \\\n",
       "0  8419537941919820732  active  2023-01-22 12:09:39.388884 UTC  2023-01-22   \n",
       "1    54515546588432327  active  2023-01-24 09:06:42.605777 UTC  2023-01-24   \n",
       "2  8377465688456570187  active  2023-01-24 09:07:26.441407 UTC  2023-01-24   \n",
       "3  5955337179846162144  active  2023-01-24 09:08:07.634899 UTC  2023-01-24   \n",
       "4  1169347689335808384  active  2023-01-24 09:08:18.436854 UTC  2023-01-24   \n",
       "\n",
       "              UTC Time  \n",
       "0  12:09:39.388884 UTC  \n",
       "1  09:06:42.605777 UTC  \n",
       "2  09:07:26.441407 UTC  \n",
       "3  09:08:07.634899 UTC  \n",
       "4  09:08:18.436854 UTC  "
      ]
     },
     "execution_count": 11,
     "metadata": {},
     "output_type": "execute_result"
    }
   ],
   "source": [
    "dfch.head()"
   ]
  },
  {
   "cell_type": "code",
   "execution_count": 13,
   "metadata": {},
   "outputs": [],
   "source": [
    "df5[['Date', 'UTC Time']] = df5.timestamp_utc.str.split(\" \", n=1, expand=True)"
   ]
  },
  {
   "cell_type": "code",
   "execution_count": 14,
   "metadata": {},
   "outputs": [
    {
     "data": {
      "text/html": [
       "<div>\n",
       "<style scoped>\n",
       "    .dataframe tbody tr th:only-of-type {\n",
       "        vertical-align: middle;\n",
       "    }\n",
       "\n",
       "    .dataframe tbody tr th {\n",
       "        vertical-align: top;\n",
       "    }\n",
       "\n",
       "    .dataframe thead th {\n",
       "        text-align: right;\n",
       "    }\n",
       "</style>\n",
       "<table border=\"1\" class=\"dataframe\">\n",
       "  <thead>\n",
       "    <tr style=\"text-align: right;\">\n",
       "      <th></th>\n",
       "      <th>store_id</th>\n",
       "      <th>day</th>\n",
       "      <th>start_time_local</th>\n",
       "      <th>end_time_local</th>\n",
       "      <th>status</th>\n",
       "      <th>timestamp_utc</th>\n",
       "      <th>Date</th>\n",
       "      <th>UTC Time</th>\n",
       "    </tr>\n",
       "  </thead>\n",
       "  <tbody>\n",
       "    <tr>\n",
       "      <th>0</th>\n",
       "      <td>1481966498820158979</td>\n",
       "      <td>4</td>\n",
       "      <td>00:00:00</td>\n",
       "      <td>00:10:00</td>\n",
       "      <td>active</td>\n",
       "      <td>2023-01-20 05:37:32.091231 UTC</td>\n",
       "      <td>2023-01-20</td>\n",
       "      <td>05:37:32.091231 UTC</td>\n",
       "    </tr>\n",
       "    <tr>\n",
       "      <th>1</th>\n",
       "      <td>1481966498820158979</td>\n",
       "      <td>4</td>\n",
       "      <td>00:00:00</td>\n",
       "      <td>00:10:00</td>\n",
       "      <td>active</td>\n",
       "      <td>2023-01-24 15:10:01.222494 UTC</td>\n",
       "      <td>2023-01-24</td>\n",
       "      <td>15:10:01.222494 UTC</td>\n",
       "    </tr>\n",
       "    <tr>\n",
       "      <th>2</th>\n",
       "      <td>1481966498820158979</td>\n",
       "      <td>4</td>\n",
       "      <td>00:00:00</td>\n",
       "      <td>00:10:00</td>\n",
       "      <td>active</td>\n",
       "      <td>2023-01-19 00:35:26.427784 UTC</td>\n",
       "      <td>2023-01-19</td>\n",
       "      <td>00:35:26.427784 UTC</td>\n",
       "    </tr>\n",
       "    <tr>\n",
       "      <th>3</th>\n",
       "      <td>1481966498820158979</td>\n",
       "      <td>4</td>\n",
       "      <td>00:00:00</td>\n",
       "      <td>00:10:00</td>\n",
       "      <td>active</td>\n",
       "      <td>2023-01-25 11:09:27.334577 UTC</td>\n",
       "      <td>2023-01-25</td>\n",
       "      <td>11:09:27.334577 UTC</td>\n",
       "    </tr>\n",
       "    <tr>\n",
       "      <th>4</th>\n",
       "      <td>1481966498820158979</td>\n",
       "      <td>4</td>\n",
       "      <td>00:00:00</td>\n",
       "      <td>00:10:00</td>\n",
       "      <td>active</td>\n",
       "      <td>2023-01-21 02:07:42.020815 UTC</td>\n",
       "      <td>2023-01-21</td>\n",
       "      <td>02:07:42.020815 UTC</td>\n",
       "    </tr>\n",
       "  </tbody>\n",
       "</table>\n",
       "</div>"
      ],
      "text/plain": [
       "              store_id  day start_time_local end_time_local  status  \\\n",
       "0  1481966498820158979    4         00:00:00       00:10:00  active   \n",
       "1  1481966498820158979    4         00:00:00       00:10:00  active   \n",
       "2  1481966498820158979    4         00:00:00       00:10:00  active   \n",
       "3  1481966498820158979    4         00:00:00       00:10:00  active   \n",
       "4  1481966498820158979    4         00:00:00       00:10:00  active   \n",
       "\n",
       "                    timestamp_utc        Date             UTC Time  \n",
       "0  2023-01-20 05:37:32.091231 UTC  2023-01-20  05:37:32.091231 UTC  \n",
       "1  2023-01-24 15:10:01.222494 UTC  2023-01-24  15:10:01.222494 UTC  \n",
       "2  2023-01-19 00:35:26.427784 UTC  2023-01-19  00:35:26.427784 UTC  \n",
       "3  2023-01-25 11:09:27.334577 UTC  2023-01-25  11:09:27.334577 UTC  \n",
       "4  2023-01-21 02:07:42.020815 UTC  2023-01-21  02:07:42.020815 UTC  "
      ]
     },
     "execution_count": 14,
     "metadata": {},
     "output_type": "execute_result"
    }
   ],
   "source": [
    "df5.head()"
   ]
  },
  {
   "cell_type": "code",
   "execution_count": 15,
   "metadata": {},
   "outputs": [
    {
     "data": {
      "text/plain": [
       "store_id            0\n",
       "day                 0\n",
       "start_time_local    0\n",
       "end_time_local      0\n",
       "status              0\n",
       "timestamp_utc       0\n",
       "Date                0\n",
       "UTC Time            0\n",
       "dtype: int64"
      ]
     },
     "execution_count": 15,
     "metadata": {},
     "output_type": "execute_result"
    }
   ],
   "source": [
    "df5.isnull().sum()"
   ]
  },
  {
   "cell_type": "code",
   "execution_count": 16,
   "metadata": {},
   "outputs": [],
   "source": [
    "df5 = df5.drop(['timestamp_utc'],axis=1)"
   ]
  },
  {
   "cell_type": "code",
   "execution_count": 17,
   "metadata": {},
   "outputs": [],
   "source": [
    "df5 = df5.drop(['UTC Time'], axis=1)"
   ]
  },
  {
   "cell_type": "code",
   "execution_count": 18,
   "metadata": {},
   "outputs": [
    {
     "data": {
      "text/html": [
       "<div>\n",
       "<style scoped>\n",
       "    .dataframe tbody tr th:only-of-type {\n",
       "        vertical-align: middle;\n",
       "    }\n",
       "\n",
       "    .dataframe tbody tr th {\n",
       "        vertical-align: top;\n",
       "    }\n",
       "\n",
       "    .dataframe thead th {\n",
       "        text-align: right;\n",
       "    }\n",
       "</style>\n",
       "<table border=\"1\" class=\"dataframe\">\n",
       "  <thead>\n",
       "    <tr style=\"text-align: right;\">\n",
       "      <th></th>\n",
       "      <th>store_id</th>\n",
       "      <th>day</th>\n",
       "      <th>start_time_local</th>\n",
       "      <th>end_time_local</th>\n",
       "      <th>status</th>\n",
       "      <th>Date</th>\n",
       "    </tr>\n",
       "  </thead>\n",
       "  <tbody>\n",
       "    <tr>\n",
       "      <th>0</th>\n",
       "      <td>1481966498820158979</td>\n",
       "      <td>4</td>\n",
       "      <td>00:00:00</td>\n",
       "      <td>00:10:00</td>\n",
       "      <td>active</td>\n",
       "      <td>2023-01-20</td>\n",
       "    </tr>\n",
       "    <tr>\n",
       "      <th>1</th>\n",
       "      <td>1481966498820158979</td>\n",
       "      <td>4</td>\n",
       "      <td>00:00:00</td>\n",
       "      <td>00:10:00</td>\n",
       "      <td>active</td>\n",
       "      <td>2023-01-24</td>\n",
       "    </tr>\n",
       "    <tr>\n",
       "      <th>2</th>\n",
       "      <td>1481966498820158979</td>\n",
       "      <td>4</td>\n",
       "      <td>00:00:00</td>\n",
       "      <td>00:10:00</td>\n",
       "      <td>active</td>\n",
       "      <td>2023-01-19</td>\n",
       "    </tr>\n",
       "    <tr>\n",
       "      <th>3</th>\n",
       "      <td>1481966498820158979</td>\n",
       "      <td>4</td>\n",
       "      <td>00:00:00</td>\n",
       "      <td>00:10:00</td>\n",
       "      <td>active</td>\n",
       "      <td>2023-01-25</td>\n",
       "    </tr>\n",
       "    <tr>\n",
       "      <th>4</th>\n",
       "      <td>1481966498820158979</td>\n",
       "      <td>4</td>\n",
       "      <td>00:00:00</td>\n",
       "      <td>00:10:00</td>\n",
       "      <td>active</td>\n",
       "      <td>2023-01-21</td>\n",
       "    </tr>\n",
       "  </tbody>\n",
       "</table>\n",
       "</div>"
      ],
      "text/plain": [
       "              store_id  day start_time_local end_time_local  status  \\\n",
       "0  1481966498820158979    4         00:00:00       00:10:00  active   \n",
       "1  1481966498820158979    4         00:00:00       00:10:00  active   \n",
       "2  1481966498820158979    4         00:00:00       00:10:00  active   \n",
       "3  1481966498820158979    4         00:00:00       00:10:00  active   \n",
       "4  1481966498820158979    4         00:00:00       00:10:00  active   \n",
       "\n",
       "         Date  \n",
       "0  2023-01-20  \n",
       "1  2023-01-24  \n",
       "2  2023-01-19  \n",
       "3  2023-01-25  \n",
       "4  2023-01-21  "
      ]
     },
     "execution_count": 18,
     "metadata": {},
     "output_type": "execute_result"
    }
   ],
   "source": [
    "df5.head()"
   ]
  },
  {
   "cell_type": "code",
   "execution_count": 19,
   "metadata": {},
   "outputs": [],
   "source": [
    "df5.to_csv(f'RestaurantData_5.csv', index=False)"
   ]
  },
  {
   "cell_type": "code",
   "execution_count": null,
   "metadata": {},
   "outputs": [],
   "source": [
    "# df5_active = df5.store_id(df5[\"status\"] == \"active\")"
   ]
  },
  {
   "attachments": {},
   "cell_type": "markdown",
   "metadata": {},
   "source": [
    "Final Data must include\n",
    "\n",
    "store_id, uptime_last_hour, uptime_last_day, update_last_week, downtime_last_hour, downtime_last_day, downtime_last_week"
   ]
  },
  {
   "cell_type": "code",
   "execution_count": 20,
   "metadata": {},
   "outputs": [],
   "source": [
    "finaldf = pd.DataFrame(\n",
    "    columns=[\"store_id\", \"uptime_last_hour\", \"uptime_last_day\", \"uptime_last_week\", \"downtime_last_hour\", \"downtime_last_day\", \"downtime_last_week\"])\n"
   ]
  },
  {
   "cell_type": "code",
   "execution_count": 21,
   "metadata": {},
   "outputs": [
    {
     "data": {
      "text/html": [
       "<div>\n",
       "<style scoped>\n",
       "    .dataframe tbody tr th:only-of-type {\n",
       "        vertical-align: middle;\n",
       "    }\n",
       "\n",
       "    .dataframe tbody tr th {\n",
       "        vertical-align: top;\n",
       "    }\n",
       "\n",
       "    .dataframe thead th {\n",
       "        text-align: right;\n",
       "    }\n",
       "</style>\n",
       "<table border=\"1\" class=\"dataframe\">\n",
       "  <thead>\n",
       "    <tr style=\"text-align: right;\">\n",
       "      <th></th>\n",
       "      <th>store_id</th>\n",
       "      <th>uptime_last_hour</th>\n",
       "      <th>uptime_last_day</th>\n",
       "      <th>uptime_last_week</th>\n",
       "      <th>downtime_last_hour</th>\n",
       "      <th>downtime_last_day</th>\n",
       "      <th>downtime_last_week</th>\n",
       "    </tr>\n",
       "  </thead>\n",
       "  <tbody>\n",
       "  </tbody>\n",
       "</table>\n",
       "</div>"
      ],
      "text/plain": [
       "Empty DataFrame\n",
       "Columns: [store_id, uptime_last_hour, uptime_last_day, uptime_last_week, downtime_last_hour, downtime_last_day, downtime_last_week]\n",
       "Index: []"
      ]
     },
     "execution_count": 21,
     "metadata": {},
     "output_type": "execute_result"
    }
   ],
   "source": [
    "finaldf.head()"
   ]
  },
  {
   "cell_type": "code",
   "execution_count": 22,
   "metadata": {},
   "outputs": [],
   "source": [
    "finaldf.to_csv(f'RestaurantData_Final.csv', index=False)"
   ]
  },
  {
   "attachments": {},
   "cell_type": "markdown",
   "metadata": {},
   "source": [
    "Visualization"
   ]
  },
  {
   "cell_type": "code",
   "execution_count": 23,
   "metadata": {},
   "outputs": [
    {
     "name": "stdout",
     "output_type": "stream",
     "text": [
      "          store_id      day\n",
      "store_id   1.00000  0.00057\n",
      "day        0.00057  1.00000\n"
     ]
    },
    {
     "data": {
      "text/plain": [
       "<matplotlib.axes._subplots.AxesSubplot at 0x1c921c041f0>"
      ]
     },
     "execution_count": 23,
     "metadata": {},
     "output_type": "execute_result"
    },
    {
     "data": {
      "image/png": "[encoded data removed]",
      "text/plain": [
       "<Figure size 432x288 with 2 Axes>"
      ]
     },
     "metadata": {
      "needs_background": "light"
     },
     "output_type": "display_data"
    }
   ],
   "source": [
    "print(df5.corr())\n",
    "sns.heatmap(df5.corr(),cmap=\"copper\",annot=True,linewidths=0.2)"
   ]
  },
  {
   "cell_type": "code",
   "execution_count": 13,
   "metadata": {},
   "outputs": [],
   "source": [
    "#pd.crosstab(df5.store_id, df5.day).plot(kind='bar'), pd.crosstab(df5.store_id, df5.day).plot(kind='line')"
   ]
  },
  {
   "cell_type": "code",
   "execution_count": null,
   "metadata": {},
   "outputs": [],
   "source": [
    "#sns.countplot(\"day\",hue=\"week\",data=df5)"
   ]
  },
  {
   "cell_type": "code",
   "execution_count": null,
   "metadata": {},
   "outputs": [],
   "source": [
    "#plt.pie(\"day\",data=df5,labels=\"week\",shadow=True,frame=True)\n",
    "#plt.title(\"days active\")\n",
    "#plt.legend()"
   ]
  },
  {
   "attachments": {},
   "cell_type": "markdown",
   "metadata": {},
   "source": [
    "Predictions"
   ]
  },
  {
   "cell_type": "code",
   "execution_count": null,
   "metadata": {},
   "outputs": [],
   "source": [
    "#X = df_train.drop(['Date'],axis=1)\n",
    "#Y = df_train.status\n",
    "#X_test = df_test\n",
    "#from sklearn.model_selection import train_test_split\n",
    "#X_train,X_check,y_train,y_check = train_test_split(X,Y,test_size=0.3)"
   ]
  },
  {
   "cell_type": "code",
   "execution_count": null,
   "metadata": {},
   "outputs": [],
   "source": [
    "#print('Shape of X_train:',X_train.shape)\n",
    "#print('Shape of X_check:',X_check.shape)\n",
    "#print('Shape of X_test:',X_test.shape)"
   ]
  },
  {
   "cell_type": "code",
   "execution_count": null,
   "metadata": {},
   "outputs": [],
   "source": [
    "'''\n",
    "from sklearn.linear_model import LogisticRegression\n",
    "from sklearn.tree import DecisionTreeClassifier\n",
    "from sklearn.ensemble import RandomForestClassifier\n",
    "'''"
   ]
  },
  {
   "cell_type": "code",
   "execution_count": null,
   "metadata": {},
   "outputs": [],
   "source": [
    "'''\n",
    "LR = LogisticRegression()\n",
    "LR.fit(X_train,y_train)\n",
    "LR.score(X_check,y_check)\n",
    "'''"
   ]
  },
  {
   "cell_type": "code",
   "execution_count": null,
   "metadata": {},
   "outputs": [],
   "source": [
    "'''\n",
    "DTC = DecisionTreeClassifier(criterion='gini')\n",
    "DTC.fit(X_train,y_train)\n",
    "DTC.score(X_check,y_check)\n",
    "'''"
   ]
  },
  {
   "cell_type": "code",
   "execution_count": null,
   "metadata": {},
   "outputs": [],
   "source": [
    "'''\n",
    "RFC = RandomForestClassifier()\n",
    "RFC.fit(X_train,y_train)\n",
    "RFC.score(X_check,y_check)\n",
    "'''"
   ]
  },
  {
   "cell_type": "code",
   "execution_count": null,
   "metadata": {},
   "outputs": [],
   "source": [
    "'''\n",
    "models = pd.DataFrame({\n",
    "    'Model': ['Logistic Regression', 'Random Forest Classifier', 'Decision Tree Classifier'],\n",
    "    'Score': [LR.score(X_check,y_check),RFC.score(X_check,y_check),DTC.score(X_check,y_check)]})\n",
    "models.sort_values(by=\"Score\")\n",
    "'''"
   ]
  },
  {
   "cell_type": "code",
   "execution_count": null,
   "metadata": {},
   "outputs": [],
   "source": []
  }
 ],
 "metadata": {
  "kernelspec": {
   "display_name": "Python 3",
   "language": "python",
   "name": "python3"
  },
  "language_info": {
   "codemirror_mode": {
    "name": "ipython",
    "version": 3
   },
   "file_extension": ".py",
   "mimetype": "text/x-python",
   "name": "python",
   "nbconvert_exporter": "python",
   "pygments_lexer": "ipython3",
   "version": "3.8.2"
  },
  "orig_nbformat": 4,
  "vscode": {
   "interpreter": {
    "hash": "03822121fd6fda9c3b64643458ea35e2210ab6ef8f7bc615fcae8351a0732f4b"
   }
  }
 },
 "nbformat": 4,
 "nbformat_minor": 2
}
